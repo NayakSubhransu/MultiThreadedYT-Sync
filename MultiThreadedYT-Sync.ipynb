{
 "cells": [
  {
   "cell_type": "code",
   "execution_count": 2,
   "id": "3fb0e3a6-2f4c-49fb-9806-862973b5f09c",
   "metadata": {
    "collapsed": true,
    "jupyter": {
     "outputs_hidden": true
    },
    "tags": []
   },
   "outputs": [
    {
     "name": "stdout",
     "output_type": "stream",
     "text": [
      "Defaulting to user installation because normal site-packages is not writeable\n",
      "Requirement already satisfied: pytube in c:\\users\\hp\\appdata\\roaming\\python\\python311\\site-packages (15.0.0)\n"
     ]
    }
   ],
   "source": [
    "!pip install pytube\n"
   ]
  },
  {
   "cell_type": "markdown",
   "id": "8981cca5-8500-41c2-b83c-bf913e948b25",
   "metadata": {},
   "source": [
    "---- \n",
    "---- \n",
    "---- "
   ]
  },
  {
   "cell_type": "code",
   "execution_count": null,
   "id": "26e2473d-bea9-4800-9bfd-8d19dede9f72",
   "metadata": {},
   "outputs": [],
   "source": [
    "from pytube import Playlist\n",
    "from pytube import YouTube\n",
    "import os\n",
    "\n",
    "def download_youtube_playlist(playlist_url, download_path):\n",
    "    # Create a Playlist object\n",
    "    playlist = Playlist(playlist_url)\n",
    "    \n",
    "    # Print playlist title and total number of videos\n",
    "    print(f'Downloading playlist: {playlist.title}')\n",
    "    print(f'Number of videos: {len(playlist.video_urls)}')\n",
    "    \n",
    "    # Ensure the download path exists\n",
    "    if not os.path.exists(download_path):\n",
    "        os.makedirs(download_path)\n",
    "    \n",
    "    # Download each video in the playlist\n",
    "    for video_url in playlist.video_urls:\n",
    "        try:\n",
    "            # Create a YouTube object for the video\n",
    "            yt = YouTube(video_url)\n",
    "            \n",
    "            # Get the highest resolution stream available\n",
    "            stream = yt.streams.get_highest_resolution()\n",
    "            \n",
    "            # Print the title of the video being downloaded\n",
    "            print(f'Downloading: {yt.title}')\n",
    "            \n",
    "            # Download the video\n",
    "            stream.download(output_path=download_path)\n",
    "        except Exception as e:\n",
    "            print(f'Error downloading {video_url}: {e}')\n",
    "            continue\n",
    "    \n",
    "    print('Playlist download complete.')\n",
    "\n",
    "if __name__ == \"__main__\":\n",
    "    # Example usage\n",
    "    playlist_url = input(\"Enter the playlist URL: \")\n",
    "    download_path = input(\"Enter the download path: \")\n",
    "    \n",
    "    download_youtube_playlist(playlist_url, download_path)\n"
   ]
  },
  {
   "cell_type": "code",
   "execution_count": null,
   "id": "b655a133-a6f7-4ec9-bff3-4c6eba42226f",
   "metadata": {},
   "outputs": [],
   "source": []
  }
 ],
 "metadata": {
  "kernelspec": {
   "display_name": "Python 3 (ipykernel)",
   "language": "python",
   "name": "python3"
  },
  "language_info": {
   "codemirror_mode": {
    "name": "ipython",
    "version": 3
   },
   "file_extension": ".py",
   "mimetype": "text/x-python",
   "name": "python",
   "nbconvert_exporter": "python",
   "pygments_lexer": "ipython3",
   "version": "3.11.7"
  }
 },
 "nbformat": 4,
 "nbformat_minor": 5
}
